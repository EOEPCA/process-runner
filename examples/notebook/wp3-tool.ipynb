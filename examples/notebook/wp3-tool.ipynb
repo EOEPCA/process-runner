{
 "cells": [
  {
   "cell_type": "code",
   "execution_count": null,
   "metadata": {},
   "outputs": [],
   "source": [
    "import os\n",
    "from wps3_client.wps3 import main"
   ]
  },
  {
   "cell_type": "code",
   "execution_count": null,
   "metadata": {},
   "outputs": [],
   "source": [
    "wps_params = dict()\n",
    "\n",
    "wps_params['input_reference'] = 'https://catalog.terradue.com/sentinel2/search?uid=S2A_MSIL2A_20191216T004701_N0213_R102_T53HPA_20191216T024808'\n",
    "wps_params['aoi'] = 'POLYGON((136.112726861895 -36.227897298303,137.333826362695 -36.2103069464338,137.305145407058 -35.2211228310596,136.099040812374 -35.2380875358202,136.112726861895 -36.227897298303))'"
   ]
  },
  {
   "cell_type": "code",
   "execution_count": null,
   "metadata": {},
   "outputs": [],
   "source": [
    "wps_params"
   ]
  },
  {
   "cell_type": "code",
   "execution_count": null,
   "metadata": {},
   "outputs": [],
   "source": [
    "params = dict()"
   ]
  },
  {
   "cell_type": "code",
   "execution_count": null,
   "metadata": {},
   "outputs": [],
   "source": [
    "params['conf'] = './conf.yml'\n",
    "params['application_package_url'] = 'https://raw.githubusercontent.com/terradue-ogc-tb16/application-chaining/master/processes/vegetation-index.cwl'\n",
    "params['wps_endpoint'] = 'http://ades-ref.eoepca.terradue.com/terradue/wps3'\n",
    "params['result_method'] = 'by-reference'"
   ]
  },
  {
   "cell_type": "raw",
   "metadata": {},
   "source": [
    "params"
   ]
  },
  {
   "cell_type": "code",
   "execution_count": null,
   "metadata": {},
   "outputs": [],
   "source": [
    "os.environ['TOKEN'] = 'eyJhbGciOiJIUzI1NiIsImtpZCI6IlJTQTEifQ.eyJhY3RpdmUiOnRydWUsImV4cCI6MTU5MzUxNTU2NSwiaWF0IjoxNTkzNTExOTY1LCJuYmYiOm51bGwsInBlcm1pc3Npb25zIjpbeyJyZXNvdXJjZV9pZCI6ImI3Y2FkZTVjLTM3MmYtNGM4Ny1iZTgyLWE3OTU2NDk4ZTcyOSIsInJlc291cmNlX3Njb3BlcyI6WyJBdXRoZW50aWNhdGVkIiwib3BlbmlkIl0sImV4cCI6MTU5MzUxNTU2NCwicGFyYW1zIjpudWxsfV0sImNsaWVudF9pZCI6IjYxY2UyOGQ1LWFhMTYtNGRkYy04NDJmLWZjYzE1OGQzMTVmYSIsInN1YiI6bnVsbCwiYXVkIjoiNjFjZTI4ZDUtYWExNi00ZGRjLTg0MmYtZmNjMTU4ZDMxNWZhIiwiaXNzIjpudWxsLCJqdGkiOm51bGwsInBjdF9jbGFpbXMiOnsiYXVkIjpbIjYxY2UyOGQ1LWFhMTYtNGRkYy04NDJmLWZjYzE1OGQzMTVmYSJdLCJzdWIiOlsiZWIzMTQyMWUtMGEyZS00OTBmLWJiYWYtMDk3MWE0ZTliNzhhIl0sInVzZXJfbmFtZSI6WyJyZGlyaWVuem8iXSwiaXNzIjpbImh0dHBzOi8vZW9lcGNhLWRldi5kZWltb3Mtc3BhY2UuY29tIl0sImV4cCI6WyIxNTkzNTE1NTY0Il0sImlhdCI6WyIxNTkzNTExOTY0Il0sIm94T3BlbklEQ29ubmVjdFZlcnNpb24iOlsib3BlbmlkY29ubmVjdC0xLjAiXX19.A8a-SL0mqmQ-tP0lGQN6QIKAcT4l2LcHoIF5avaD4Yk'"
   ]
  },
  {
   "cell_type": "code",
   "execution_count": 9,
   "metadata": {},
   "outputs": [
    {
     "name": "stderr",
     "output_type": "stream",
     "text": [
      "2020-11-13T08:23:30 INFO     Process id: nb_vegetation_index_\n",
      "2020-11-13T08:23:31 INFO     200 - OK, http://ades-ref.eoepca.terradue.com/terradue/wps3/processes\n",
      "2020-11-13T08:23:31 INFO     Checking if process nb_vegetation_index_ is deployed\n",
      "2020-11-13T08:23:31 INFO     200 - OK, http://ades-ref.eoepca.terradue.com/terradue/wps3/processes/nb_vegetation_index_\n",
      "2020-11-13T08:23:31 INFO     Process nb_vegetation_index_ is deployed\n",
      "2020-11-13T08:23:31 INFO     200 - OK, http://ades-ref.eoepca.terradue.com/terradue/wps3/processes/nb_vegetation_index_\n",
      "2020-11-13T08:23:31 INFO     [{'id': 'input_reference', 'input': {'dataType': {'name': 'string'}, 'value': 'https://catalog.terradue.com/sentinel2/search?uid=S2A_MSIL2A_20191216T004701_N0213_R102_T53HPA_20191216T024808'}}, {'id': 'aoi', 'input': {'dataType': {'name': 'string'}, 'value': 'POLYGON((136.112726861895 -36.227897298303,137.333826362695 -36.2103069464338,137.305145407058 -35.2211228310596,136.099040812374 -35.2380875358202,136.112726861895 -36.227897298303))'}}]\n",
      "2020-11-13T08:23:31 INFO     201 - Created, http://ades-ref.eoepca.terradue.com/terradue/wps3/processes/nb_vegetation_index_/jobs\n",
      "2020-11-13T08:23:31 INFO     200 - OK, http://ades-ref.eoepca.terradue.com//terradue/watchjob/processes/nb_vegetation_index_/jobs/21e4a3a4-2581-11eb-9e37-0a580a83022b\n",
      "2020-11-13T08:23:31 INFO     200 - OK, http://ades-ref.eoepca.terradue.com//terradue/watchjob/processes/nb_vegetation_index_/jobs/21e4a3a4-2581-11eb-9e37-0a580a83022b\n",
      "2020-11-13T08:23:31 INFO     Polling status at http://ades-ref.eoepca.terradue.com//terradue/watchjob/processes/nb_vegetation_index_/jobs/21e4a3a4-2581-11eb-9e37-0a580a83022b for job id: 21e4a3a4-2581-11eb-9e37-0a580a83022b\n",
      "2020-11-13T08:23:31 INFO     200 - OK, http://ades-ref.eoepca.terradue.com//terradue/watchjob/processes/nb_vegetation_index_/jobs/21e4a3a4-2581-11eb-9e37-0a580a83022b\n",
      "2020-11-13T08:23:31 INFO     Polling - running, 0 %\n",
      "2020-11-13T08:24:01 INFO     200 - OK, http://ades-ref.eoepca.terradue.com//terradue/watchjob/processes/nb_vegetation_index_/jobs/21e4a3a4-2581-11eb-9e37-0a580a83022b\n",
      "2020-11-13T08:24:01 INFO     Polling - running, 0 %\n",
      "2020-11-13T08:24:31 INFO     200 - OK, http://ades-ref.eoepca.terradue.com//terradue/watchjob/processes/nb_vegetation_index_/jobs/21e4a3a4-2581-11eb-9e37-0a580a83022b\n",
      "2020-11-13T08:24:31 INFO     Polling - running, 0 %\n",
      "2020-11-13T08:25:01 INFO     200 - OK, http://ades-ref.eoepca.terradue.com//terradue/watchjob/processes/nb_vegetation_index_/jobs/21e4a3a4-2581-11eb-9e37-0a580a83022b\n",
      "2020-11-13T08:25:01 INFO     Polling - running, 0 %\n",
      "2020-11-13T08:25:31 INFO     200 - OK, http://ades-ref.eoepca.terradue.com//terradue/watchjob/processes/nb_vegetation_index_/jobs/21e4a3a4-2581-11eb-9e37-0a580a83022b\n",
      "2020-11-13T08:25:31 INFO     Polling - running, 50 %\n",
      "2020-11-13T08:26:01 INFO     200 - OK, http://ades-ref.eoepca.terradue.com//terradue/watchjob/processes/nb_vegetation_index_/jobs/21e4a3a4-2581-11eb-9e37-0a580a83022b\n",
      "2020-11-13T08:26:01 INFO     Polling - running, 50 %\n",
      "2020-11-13T08:26:31 INFO     200 - OK, http://ades-ref.eoepca.terradue.com//terradue/watchjob/processes/nb_vegetation_index_/jobs/21e4a3a4-2581-11eb-9e37-0a580a83022b\n",
      "2020-11-13T08:26:31 INFO     Polling - running, 50 %\n",
      "2020-11-13T08:27:01 INFO     200 - OK, http://ades-ref.eoepca.terradue.com//terradue/watchjob/processes/nb_vegetation_index_/jobs/21e4a3a4-2581-11eb-9e37-0a580a83022b\n",
      "2020-11-13T08:27:01 INFO     Polling - running, 50 %\n",
      "2020-11-13T08:27:31 INFO     200 - OK, http://ades-ref.eoepca.terradue.com//terradue/watchjob/processes/nb_vegetation_index_/jobs/21e4a3a4-2581-11eb-9e37-0a580a83022b\n",
      "2020-11-13T08:27:31 INFO     Polling - running, 50 %\n",
      "2020-11-13T08:28:02 INFO     200 - OK, http://ades-ref.eoepca.terradue.com//terradue/watchjob/processes/nb_vegetation_index_/jobs/21e4a3a4-2581-11eb-9e37-0a580a83022b\n",
      "2020-11-13T08:28:02 INFO     Polling - running, 50 %\n",
      "2020-11-13T08:28:32 INFO     200 - OK, http://ades-ref.eoepca.terradue.com//terradue/watchjob/processes/nb_vegetation_index_/jobs/21e4a3a4-2581-11eb-9e37-0a580a83022b\n",
      "2020-11-13T08:28:32 INFO     Polling - running, 50 %\n",
      "2020-11-13T08:29:02 INFO     200 - OK, http://ades-ref.eoepca.terradue.com//terradue/watchjob/processes/nb_vegetation_index_/jobs/21e4a3a4-2581-11eb-9e37-0a580a83022b\n",
      "2020-11-13T08:29:02 INFO     Polling - running, 50 %\n",
      "2020-11-13T08:29:32 INFO     200 - OK, http://ades-ref.eoepca.terradue.com//terradue/watchjob/processes/nb_vegetation_index_/jobs/21e4a3a4-2581-11eb-9e37-0a580a83022b\n",
      "2020-11-13T08:29:32 INFO     Polling - running, 50 %\n",
      "2020-11-13T08:30:02 INFO     200 - OK, http://ades-ref.eoepca.terradue.com//terradue/watchjob/processes/nb_vegetation_index_/jobs/21e4a3a4-2581-11eb-9e37-0a580a83022b\n",
      "2020-11-13T08:30:02 INFO     Polling - running, 50 %\n",
      "2020-11-13T08:30:32 INFO     200 - OK, http://ades-ref.eoepca.terradue.com//terradue/watchjob/processes/nb_vegetation_index_/jobs/21e4a3a4-2581-11eb-9e37-0a580a83022b\n",
      "2020-11-13T08:30:32 INFO     Polling - running, 50 %\n",
      "2020-11-13T08:31:02 INFO     200 - OK, http://ades-ref.eoepca.terradue.com//terradue/watchjob/processes/nb_vegetation_index_/jobs/21e4a3a4-2581-11eb-9e37-0a580a83022b\n",
      "2020-11-13T08:31:02 INFO     Polling - running, 99 %\n",
      "2020-11-13T08:31:32 INFO     200 - OK, http://ades-ref.eoepca.terradue.com//terradue/watchjob/processes/nb_vegetation_index_/jobs/21e4a3a4-2581-11eb-9e37-0a580a83022b\n",
      "2020-11-13T08:31:32 INFO     http://ades-ref.eoepca.terradue.com//terradue/watchjob/processes/nb_vegetation_index_/jobs/21e4a3a4-2581-11eb-9e37-0a580a83022b\n",
      "2020-11-13T08:31:32 INFO     200 - OK, http://ades-ref.eoepca.terradue.com//terradue/watchjob/processes/nb_vegetation_index_/jobs/21e4a3a4-2581-11eb-9e37-0a580a83022b/result\n",
      "2020-11-13T08:31:32 INFO     https://nx13206.your-storageshare.de/remote.php/dav/files/eoepca-storage/wf-21e4a3a4-2581-11eb-9e37-0a580a83022b/catalog.json\n"
     ]
    }
   ],
   "source": [
    "results = main(wps_params, **params)"
   ]
  },
  {
   "cell_type": "code",
   "execution_count": 12,
   "metadata": {},
   "outputs": [],
   "source": [
    "results"
   ]
  },
  {
   "cell_type": "code",
   "execution_count": 11,
   "metadata": {},
   "outputs": [],
   "source": [
    "params['conf'] = './conf.yml'\n",
    "params['application_package_url'] = 'https://raw.githubusercontent.com/terradue-ogc-tb16/application-chaining/master/processes/vegetation-index.cwl'\n",
    "params['wps_endpoint'] = 'http://ades-ref.eoepca.terradue.com/terradue/wps3'\n",
    "params['result_method'] = 'by-value'"
   ]
  },
  {
   "cell_type": "code",
   "execution_count": null,
   "metadata": {},
   "outputs": [],
   "source": [
    "results = main(wps_params, **params)"
   ]
  },
  {
   "cell_type": "code",
   "execution_count": 10,
   "metadata": {},
   "outputs": [
    {
     "data": {
      "text/plain": [
       "['/workspace/ogc-tb16/wps3-client/examples/notebook/catalog.json']"
      ]
     },
     "execution_count": 10,
     "metadata": {},
     "output_type": "execute_result"
    }
   ],
   "source": [
    "results"
   ]
  },
  {
   "cell_type": "code",
   "execution_count": null,
   "metadata": {},
   "outputs": [],
   "source": []
  }
 ],
 "metadata": {
  "kernelspec": {
   "display_name": "Python [conda env:env_wps3]",
   "language": "python",
   "name": "conda-env-env_wps3-py"
  },
  "language_info": {
   "codemirror_mode": {
    "name": "ipython",
    "version": 3
   },
   "file_extension": ".py",
   "mimetype": "text/x-python",
   "name": "python",
   "nbconvert_exporter": "python",
   "pygments_lexer": "ipython3",
   "version": "3.9.0"
  }
 },
 "nbformat": 4,
 "nbformat_minor": 4
}
